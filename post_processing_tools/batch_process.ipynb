{
 "cells": [
  {
   "cell_type": "code",
   "execution_count": 8,
   "id": "eb773b70-6b2d-4cd0-9cdc-20dd3dea6f8e",
   "metadata": {
    "tags": []
   },
   "outputs": [
    {
     "name": "stderr",
     "output_type": "stream",
     "text": [
      "usage: ipykernel_launcher.py [-h] --directory DIRECTORY\n",
      "ipykernel_launcher.py: error: the following arguments are required: --directory\n"
     ]
    },
    {
     "ename": "SystemExit",
     "evalue": "2",
     "output_type": "error",
     "traceback": [
      "An exception has occurred, use %tb to see the full traceback.\n",
      "\u001b[0;31mSystemExit\u001b[0m\u001b[0;31m:\u001b[0m 2\n"
     ]
    },
    {
     "name": "stderr",
     "output_type": "stream",
     "text": [
      "/Users/minhtamninale/opt/anaconda3/envs/bootcamp/lib/python3.11/site-packages/IPython/core/interactiveshell.py:3513: UserWarning:\n",
      "\n",
      "To exit: use 'exit', 'quit', or Ctrl-D.\n",
      "\n"
     ]
    }
   ],
   "source": [
    "import os\n",
    "import argparse\n",
    "import plotly.graph_objs as go\n",
    "import pandas as pd\n",
    "import numpy as np\n",
    "from tifffile import imread\n",
    "import plotly.offline as pyo\n",
    "\n",
    "# Argument parser to accept the folder path\n",
    "parser = argparse.ArgumentParser(description=\"Process TIFF and CSV files\")\n",
    "parser.add_argument('--directory', type=str, help='Path to the folder containing files', required=True)\n",
    "args = parser.parse_args()\n",
    "\n",
    "# Directory path from arguments\n",
    "directory_path = args.directory\n",
    "\n",
    "# Loop through all files in the directory\n",
    "for file_name in os.listdir(directory_path):\n",
    "    if file_name.endswith(\"_spots_rgb.tiff\"):\n",
    "        # Load the TIFF file\n",
    "        tiff_file_path = os.path.join(directory_path, file_name)\n",
    "        highlighted_spots_image = imread(tiff_file_path)\n",
    "        \n",
    "        # Find the corresponding CSV file\n",
    "        csv_file_name = file_name.replace('_spots_rgb.tiff', '_distances.csv')\n",
    "        csv_file_path = os.path.join(directory_path, csv_file_name)\n",
    "\n",
    "        if os.path.exists(csv_file_path):\n",
    "            positions_df = pd.read_csv(csv_file_path)\n",
    "\n",
    "            # Your existing code for processing the TIFF and CSV files\n",
    "            scale_x, scale_y = 0.03529079040673428, 0.03529079040673428\n",
    "\n",
    "            # Convert positions from µm to pixel space\n",
    "            positions_df['Xleft_pixel'] = positions_df['Xleft'] / scale_x\n",
    "            positions_df['Yleft_pixel'] = positions_df['Yleft'] / scale_y\n",
    "            positions_df['Xright_pixel'] = positions_df['Xright'] / scale_x\n",
    "            positions_df['Yright_pixel'] = positions_df['Yright'] / scale_y\n",
    "            positions_df['Xmiddle_pixel'] = positions_df['Xmiddle'] / scale_x\n",
    "            positions_df['Ymiddle_pixel'] = positions_df['Ymiddle'] / scale_y\n",
    "\n",
    "            # (Continue processing with Plotly and save the results)\n",
    "\n",
    "            base_name = os.path.basename(tiff_file_path).replace('.tiff', '')\n",
    "            output_filename = f\"{base_name}_rgb_image_with_positions_um.html\"\n",
    "            fig = go.Figure(data=[go.Image(z=highlighted_spots_image)])\n",
    "            pyo.plot(fig, filename=output_filename)"
   ]
  },
  {
   "cell_type": "code",
   "execution_count": null,
   "id": "5c0bc537-9ccd-4d24-876a-7b14faa16dd6",
   "metadata": {},
   "outputs": [],
   "source": []
  }
 ],
 "metadata": {
  "kernelspec": {
   "display_name": "Python 3 (ipykernel)",
   "language": "python",
   "name": "python3"
  },
  "language_info": {
   "codemirror_mode": {
    "name": "ipython",
    "version": 3
   },
   "file_extension": ".py",
   "mimetype": "text/x-python",
   "name": "python",
   "nbconvert_exporter": "python",
   "pygments_lexer": "ipython3",
   "version": "3.11.3"
  }
 },
 "nbformat": 4,
 "nbformat_minor": 5
}
